{
 "cells": [
  {
   "cell_type": "code",
   "execution_count": 1,
   "id": "b699f3b0",
   "metadata": {},
   "outputs": [
    {
     "name": "stdout",
     "output_type": "stream",
     "text": [
      "2\n"
     ]
    }
   ],
   "source": [
    "#Booleans, Question 1\n",
    "\n",
    "# boolean True + boolean True - boolean False = ?\n",
    "\n",
    "T = True # I changed \"boolean True\" to just a T = True for cleaner code\n",
    "F = False # I changed \"boolean False\" to just a F = False for cleaner code\n",
    "\n",
    "print(T+T+F) # It equals 2"
   ]
  },
  {
   "cell_type": "code",
   "execution_count": 2,
   "id": "dd16163d",
   "metadata": {},
   "outputs": [
    {
     "name": "stdout",
     "output_type": "stream",
     "text": [
      "lt =  1\n"
     ]
    }
   ],
   "source": [
    "#Booleans, Question 2\n",
    "\n",
    "# logical tracker = True\n",
    "\n",
    "# logical tracker = logical tracker & logical tracker\n",
    "\n",
    "# logical tracker = logical tracker | (logical tracker - logical tracker)\n",
    "\n",
    "# logical tracker  = ?\n",
    "\n",
    "lt = True # For cleaner looking code that's easier to read, I changed 'logical tracker' to 'lt'\n",
    "lt = lt & lt\n",
    "lt = lt | (lt - lt)\n",
    "print('lt = ', lt) # It outputs 1"
   ]
  },
  {
   "cell_type": "code",
   "execution_count": 3,
   "id": "51e52697",
   "metadata": {},
   "outputs": [
    {
     "name": "stdout",
     "output_type": "stream",
     "text": [
      " \n"
     ]
    }
   ],
   "source": [
    "#String, Quiz Question 5\n",
    "\n",
    "# string = \"E. Coli\"\n",
    "\n",
    "# string[2]=\n",
    "\n",
    "string = \"E. Coli\"\n",
    "\n",
    "print(string[2]) # This outputs ' ' for the space between the '.' and the 'C'"
   ]
  },
  {
   "cell_type": "code",
   "execution_count": 4,
   "id": "6515b443",
   "metadata": {},
   "outputs": [
    {
     "ename": "TypeError",
     "evalue": "'str' object does not support item assignment",
     "output_type": "error",
     "traceback": [
      "\u001b[1;31m---------------------------------------------------------------------------\u001b[0m",
      "\u001b[1;31mTypeError\u001b[0m                                 Traceback (most recent call last)",
      "Cell \u001b[1;32mIn [4], line 12\u001b[0m\n\u001b[0;32m      1\u001b[0m \u001b[38;5;66;03m#String, Quiz Question 6\u001b[39;00m\n\u001b[0;32m      2\u001b[0m \n\u001b[0;32m      3\u001b[0m \u001b[38;5;66;03m# Oh no! My string has a typo!\u001b[39;00m\n\u001b[1;32m   (...)\u001b[0m\n\u001b[0;32m      8\u001b[0m \n\u001b[0;32m      9\u001b[0m \u001b[38;5;66;03m# string[2]=\"L\"\u001b[39;00m\n\u001b[0;32m     11\u001b[0m string \u001b[38;5;241m=\u001b[39m \u001b[38;5;124m\"\u001b[39m\u001b[38;5;124mI Bove python\u001b[39m\u001b[38;5;124m\"\u001b[39m\n\u001b[1;32m---> 12\u001b[0m string[\u001b[38;5;241m2\u001b[39m]\u001b[38;5;241m=\u001b[39m\u001b[38;5;124m\"\u001b[39m\u001b[38;5;124mL\u001b[39m\u001b[38;5;124m\"\u001b[39m\n",
      "\u001b[1;31mTypeError\u001b[0m: 'str' object does not support item assignment"
     ]
    }
   ],
   "source": [
    "#String, Quiz Question 6\n",
    "\n",
    "# Oh no! My string has a typo!\n",
    "\n",
    "# string = \"I Bove python\"\n",
    "\n",
    "# No worries though. I'll just fix that.\n",
    "\n",
    "# string[2]=\"L\"\n",
    "\n",
    "string = \"I Bove python\"\n",
    "string[2]=\"L\" #Running this code will give you a type error and will not work"
   ]
  },
  {
   "cell_type": "code",
   "execution_count": 6,
   "id": "b8482c11",
   "metadata": {},
   "outputs": [
    {
     "name": "stdout",
     "output_type": "stream",
     "text": [
      "<class 'int'>\n"
     ]
    }
   ],
   "source": [
    "#Quiz Question #7\n",
    "\n",
    "# Jack has been prescribed 5 medications, \n",
    "# write a variable named \"Medication\", \n",
    "# and store in it the number of medications he has. \n",
    "# Print the type of the variable \"Medication\". \n",
    "# Submit your code either here as a text entry, \n",
    "# or on your GitHub page in a new repository and \n",
    "# past the link here. We encourage you to use GitHub. \n",
    "# Don't forget to add comments to your code.\n",
    "\n",
    "Medication = 5 #Jack has been prescribed 5 medications set variable medication equal to 5.\n",
    "\n",
    "print(type(Medication))\n"
   ]
  },
  {
   "cell_type": "code",
   "execution_count": 9,
   "id": "3b86d5b4",
   "metadata": {},
   "outputs": [
    {
     "name": "stdout",
     "output_type": "stream",
     "text": [
      "24.034609838166958\n",
      "<class 'float'>\n"
     ]
    }
   ],
   "source": [
    "#Quiz Question #8\n",
    "\n",
    "# Susan has a weight of 60 kilograms and a height of 1.58 meters. \n",
    "# Write Code to Calculate and Print Susan’s Body Mass Index as float. \n",
    "# Note: Body Mass Index is a person’s weight in kilograms divided by the square of height in meters. \n",
    "# Reference: https://www.cdc.gov/healthyweight/assessing/bmi/adult_bmi/index.htmlLinks to an external site.. \n",
    "# Submit your code either here as a text entry, or on your GitHub page in a new repository and past the link here. \n",
    "# We encourage you to use GitHub. Don't forget to add comments to your code.\n",
    "\n",
    "susan_bmi = 60/(1.58**2) #calculate susan's bmi as a float\n",
    "\n",
    "print(susan_bmi)\n",
    "print(type(susan_bmi))"
   ]
  },
  {
   "cell_type": "code",
   "execution_count": 5,
   "id": "699b9931",
   "metadata": {},
   "outputs": [
    {
     "name": "stdout",
     "output_type": "stream",
     "text": [
      "2\n",
      "Hello, world!\n"
     ]
    }
   ],
   "source": [
    "#Operators 2, Quiz Question #9\n",
    "\n",
    "# Explain how the \"+\", addition operation works differently for integers and strings.\n",
    "\n",
    "worded_answer = '''\n",
    "For Integers, the \"+\" is more 'Math' oriented, or rather 'addition'. \n",
    "The following, print(1+1), will output '2'. \n",
    "When we look at strings, the \"+\" means concatenate, \n",
    "or instead it allows you to take two strings and make one, longer string. \n",
    "For Example: print('Hello,' + ' world!')  in Python will output: 'Hello, world!'.\n",
    "'''\n",
    "\n",
    "#print(worded_answer) # to print out my explained answer, uncomment at your leisure",
    "print(1+1) # Int '+' example\n",
    "print('Hello,' + ' world!') # String '+' example"
   ]
  },
  {
   "cell_type": "code",
   "execution_count": 10,
   "id": "4416298e",
   "metadata": {},
   "outputs": [
    {
     "name": "stdout",
     "output_type": "stream",
     "text": [
      "73\n"
     ]
    }
   ],
   "source": [
    "#String 3, Quiz Question 10\n",
    "\n",
    "# Type the output if the strings \"7\" and \"3\" are added.\n",
    "\n",
    "print(\"7\" + \"3\") #This provides a concatenation of two strings, the output will be \"73\""
   ]
  }
 ],
 "metadata": {
  "kernelspec": {
   "display_name": "Python 3 (ipykernel)",
   "language": "python",
   "name": "python3"
  },
  "language_info": {
   "codemirror_mode": {
    "name": "ipython",
    "version": 3
   },
   "file_extension": ".py",
   "mimetype": "text/x-python",
   "name": "python",
   "nbconvert_exporter": "python",
   "pygments_lexer": "ipython3",
   "version": "3.10.7"
  }
 },
 "nbformat": 4,
 "nbformat_minor": 5
}
